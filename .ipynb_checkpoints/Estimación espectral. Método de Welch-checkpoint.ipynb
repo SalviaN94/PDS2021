{
 "cells": [
  {
   "cell_type": "markdown",
   "id": "ec7c9ba2",
   "metadata": {},
   "source": [
    "<img src=\"./logo_UTN.svg\" align=\"right\" width=\"150\" /> \n",
    "#### Procesamiento Digital de Señales\n",
    "\n",
    "# Trabajo Semanal Nº8 (Parte 1)\n",
    "#### Nicolás Salvia"
   ]
  },
  {
   "cell_type": "markdown",
   "id": "b41573ab",
   "metadata": {},
   "source": [
    "1) Compruebe experimentalmente las propiedades de sesgo y varianza del periodograma.\n",
    "\n",
    "Ayuda: Puede utilizar una señal aleatoria con valores normalmente distribuidos de media nula y varianza **NO** unitaria, es decir x∼N(μ=0,σ2=2)\n",
    " \n",
    "Es decir, que el periodograma es un estimador de la densidad de potencia espectral (Ver Hayes 8.2.2):\n",
    "$$\n",
    "\\hat{P_p}(e^{\\frac{2*π*k*f_s}{N}}) = \\hat{P_p}(k) = \\frac{1}{N}* |X(k)|^2\n",
    "$$\n",
    "- no sesgado asintóticamente a medida que aumenta la ventana de registro N.\n",
    "- tiene varianza constante y NO depende de N."
   ]
  },
  {
   "cell_type": "code",
   "execution_count": null,
   "id": "e1cbbab4",
   "metadata": {},
   "outputs": [],
   "source": []
  }
 ],
 "metadata": {
  "kernelspec": {
   "display_name": "Python 3",
   "language": "python",
   "name": "python3"
  },
  "language_info": {
   "codemirror_mode": {
    "name": "ipython",
    "version": 3
   },
   "file_extension": ".py",
   "mimetype": "text/x-python",
   "name": "python",
   "nbconvert_exporter": "python",
   "pygments_lexer": "ipython3",
   "version": "3.8.8"
  }
 },
 "nbformat": 4,
 "nbformat_minor": 5
}
