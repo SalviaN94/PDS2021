{
 "cells": [
  {
   "cell_type": "markdown",
   "id": "d1bc12a6",
   "metadata": {},
   "source": [
    "<img src=\"./logo_UTN.svg\" align=\"right\" width=\"150\" /> \n",
    "#### Procesamiento Digital de Señales\n",
    "\n",
    "# Trabajo Semanal Nº8 (Parte 1)\n",
    "#### Nicolás Salvia"
   ]
  },
  {
   "cell_type": "markdown",
   "id": "2453e258",
   "metadata": {},
   "source": [
    "1) Compruebe experimentalmente las propiedades de sesgo y varianza del periodograma.\n",
    "\n",
    "Ayuda: Puede utilizar una señal aleatoria con valores normalmente distribuidos de media nula y varianza **NO** unitaria, es decir x∼N(μ=0,σ2=2)\n",
    " \n",
    "Es decir, que el periodograma es un estimador de la densidad de potencia espectral (Ver Hayes 8.2.2):\n",
    "$$\n",
    "\\hat{P_p}(e^{\\frac{2*π*k*f_s}{N}}) = \\hat{P_p}(k) = \\frac{1}{N}* |X(k)|^2\n",
    "$$\n",
    "- no sesgado asintóticamente a medida que aumenta la ventana de registro N.\n",
    "- tiene varianza constante y NO depende de N."
   ]
  },
  {
   "cell_type": "code",
   "execution_count": 8,
   "id": "4ca75a12",
   "metadata": {},
   "outputs": [],
   "source": [
    "import numpy as np\n",
    "import matplotlib.pyplot as plt\n",
    "import pandas as pd"
   ]
  },
  {
   "cell_type": "code",
   "execution_count": 9,
   "id": "1c53d429",
   "metadata": {},
   "outputs": [],
   "source": [
    "fs = 1000 # Hz\n",
    "ts = 1/fs\n",
    "m = 200   # Realizaciones\n",
    "mean = 0  # Media\n",
    "std = np.sqrt(2)   # Varianza\n",
    "N = np.array([10, 50, 100, 250, 500, 1000, 5000])\n",
    "sesgo = np.empty(len(N))\n",
    "varianza = np.empty(len(N))"
   ]
  },
  {
   "cell_type": "code",
   "execution_count": 10,
   "id": "db4d6892",
   "metadata": {},
   "outputs": [],
   "source": [
    "for k in range(len(N)):\n",
    "    df = fs/N[k] # resolución espectral\n",
    "    ff = np.linspace(0, (N[k]-1), N[k]) * df \n",
    "    tt = np.linspace(0, (N[k]-1), N[k]) * ts \n",
    "     \n",
    "    signal = np.random.normal(mean, std, (N[k], m))\n",
    "    signal_fft = np.fft.fft(signal, axis = 0)\n",
    "    periodgram = (((np.abs(signal_fft))**2) * 1/N[k])\n",
    "     \n",
    "    mean_periodgram = np.mean(periodgram, axis = 1)\n",
    "    sesgo[k] = np.mean(mean_periodgram) - 2\n",
    "     \n",
    "    var_periodgram = np.var(periodgram, axis = 1)\n",
    "    varianza[k] = np.mean(var_periodgram)"
   ]
  },
  {
   "cell_type": "code",
   "execution_count": 11,
   "id": "6ae6c7ef",
   "metadata": {},
   "outputs": [
    {
     "data": {
      "text/html": [
       "<div>\n",
       "<style scoped>\n",
       "    .dataframe tbody tr th:only-of-type {\n",
       "        vertical-align: middle;\n",
       "    }\n",
       "\n",
       "    .dataframe tbody tr th {\n",
       "        vertical-align: top;\n",
       "    }\n",
       "\n",
       "    .dataframe thead th {\n",
       "        text-align: right;\n",
       "    }\n",
       "</style>\n",
       "<table border=\"1\" class=\"dataframe\">\n",
       "  <thead>\n",
       "    <tr style=\"text-align: right;\">\n",
       "      <th></th>\n",
       "      <th>Muestras</th>\n",
       "      <th>Sesgo</th>\n",
       "      <th>Varianza</th>\n",
       "    </tr>\n",
       "  </thead>\n",
       "  <tbody>\n",
       "    <tr>\n",
       "      <th>0</th>\n",
       "      <td>10</td>\n",
       "      <td>0.001179</td>\n",
       "      <td>4.414737</td>\n",
       "    </tr>\n",
       "    <tr>\n",
       "      <th>1</th>\n",
       "      <td>50</td>\n",
       "      <td>0.015741</td>\n",
       "      <td>4.181854</td>\n",
       "    </tr>\n",
       "    <tr>\n",
       "      <th>2</th>\n",
       "      <td>100</td>\n",
       "      <td>0.012573</td>\n",
       "      <td>4.180873</td>\n",
       "    </tr>\n",
       "    <tr>\n",
       "      <th>3</th>\n",
       "      <td>250</td>\n",
       "      <td>-0.036948</td>\n",
       "      <td>3.854383</td>\n",
       "    </tr>\n",
       "    <tr>\n",
       "      <th>4</th>\n",
       "      <td>500</td>\n",
       "      <td>-0.002814</td>\n",
       "      <td>3.920802</td>\n",
       "    </tr>\n",
       "    <tr>\n",
       "      <th>5</th>\n",
       "      <td>1000</td>\n",
       "      <td>-0.004859</td>\n",
       "      <td>3.943098</td>\n",
       "    </tr>\n",
       "    <tr>\n",
       "      <th>6</th>\n",
       "      <td>5000</td>\n",
       "      <td>-0.001423</td>\n",
       "      <td>3.973562</td>\n",
       "    </tr>\n",
       "  </tbody>\n",
       "</table>\n",
       "</div>"
      ],
      "text/plain": [
       "  Muestras     Sesgo  Varianza\n",
       "0       10  0.001179  4.414737\n",
       "1       50  0.015741  4.181854\n",
       "2      100  0.012573  4.180873\n",
       "3      250 -0.036948  3.854383\n",
       "4      500 -0.002814  3.920802\n",
       "5     1000 -0.004859  3.943098\n",
       "6     5000 -0.001423  3.973562"
      ]
     },
     "execution_count": 11,
     "metadata": {},
     "output_type": "execute_result"
    }
   ],
   "source": [
    "# Creamos la tabla\n",
    "data = [['10', sesgo[0], varianza[0]], \n",
    "        ['50', sesgo[1], varianza[1]], \n",
    "        ['100', sesgo[2], varianza[2]], \n",
    "        ['250', sesgo[3], varianza[3]], \n",
    "        ['500', sesgo[4], varianza[4]],\n",
    "        ['1000', sesgo[5], varianza[5]],\n",
    "        ['5000', sesgo[6], varianza[6]]]\n",
    "df = pd.DataFrame(data, columns = ['Muestras', 'Sesgo', 'Varianza'])\n",
    "df"
   ]
  },
  {
   "cell_type": "markdown",
   "id": "8056eafd",
   "metadata": {},
   "source": [
    "### Conclusión\n",
    "A mayor número de muestras, nuestro sesgo es mucho menor al igual que la varianza."
   ]
  },
  {
   "cell_type": "code",
   "execution_count": null,
   "id": "52816b07",
   "metadata": {},
   "outputs": [],
   "source": []
  }
 ],
 "metadata": {
  "kernelspec": {
   "display_name": "Python 3",
   "language": "python",
   "name": "python3"
  },
  "language_info": {
   "codemirror_mode": {
    "name": "ipython",
    "version": 3
   },
   "file_extension": ".py",
   "mimetype": "text/x-python",
   "name": "python",
   "nbconvert_exporter": "python",
   "pygments_lexer": "ipython3",
   "version": "3.8.8"
  }
 },
 "nbformat": 4,
 "nbformat_minor": 5
}
