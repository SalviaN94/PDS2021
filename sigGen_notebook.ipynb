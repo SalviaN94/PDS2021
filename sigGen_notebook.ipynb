{
 "cells": [
  {
   "cell_type": "markdown",
   "metadata": {},
   "source": [
    "<img src=\"./logo_UTN.svg\" align=\"right\" width=\"150\" /> \n",
    "#### Procesamiento Digital de Señales\n",
    "\n",
    "# Trabajo Semanal Nº7\n",
    "#### Nicolás Salvia\n"
   ]
  },
  {
   "cell_type": "markdown",
   "metadata": {},
   "source": [
    "# TS7: Estimación espectral. Ventanas en acción!\n",
    "\n",
    "Genere la siguiente señal\n",
    "$$\n",
    "    x(k) =a0⋅sen(Ω1⋅k)\n",
    "$$\n",
    "siendo\n",
    "$$\n",
    "    a0=2\n",
    "$$\n",
    "$$\n",
    "    Ω1=Ω0+fr⋅ \\frac {2π} {N}\n",
    "$$\n",
    "$$\n",
    "    Ω0= \\frac {π}{2}\n",
    "$$\n",
    "y la variable aleatoria definida por la siguiente distribución de probabilidad\n",
    "$$\n",
    "    fr∼U(−2,2)\n",
    "$$\n",
    "Considere 200 realizaciones (muestras tomadas de fr) para cada ventana analizada en la TS6. Se pide entonces:"
   ]
  },
  {
   "cell_type": "code",
   "execution_count": 40,
   "metadata": {},
   "outputs": [],
   "source": [
    "import numpy as np\n",
    "import matplotlib.pyplot as plt\n",
    "import pandas as pd\n",
    "from scipy.signal import windows as win"
   ]
  },
  {
   "cell_type": "code",
   "execution_count": 41,
   "metadata": {},
   "outputs": [],
   "source": [
    "#Inicializamos las variables\n",
    "m = 200\n",
    "N = 1000\n",
    "fs = 1000\n",
    "ts = 1/fs # tiempo de muestreo\n",
    "df = fs/N # resolución espectral"
   ]
  },
  {
   "cell_type": "code",
   "execution_count": 42,
   "metadata": {},
   "outputs": [],
   "source": [
    "# Inicializamos las grillas\n",
    "# Grilla de sampleo temporal\n",
    "tt = np.linspace(0, (N-1), N) * ts\n",
    "# Grilla de sampleo frecuencial\n",
    "ff = np.linspace(0, (N-1), N) * df"
   ]
  },
  {
   "cell_type": "code",
   "execution_count": 43,
   "metadata": {},
   "outputs": [],
   "source": [
    "# Tomamos las 200 muestras\n",
    "fr = np.random.uniform(low = -2, high= 2, size = m)"
   ]
  },
  {
   "cell_type": "code",
   "execution_count": 44,
   "metadata": {},
   "outputs": [],
   "source": [
    "# Generamos la señal\n",
    "a_sign = 2\n",
    "freq_1 = ((np.pi/2)*fs)/(2*np.pi)\n",
    "freq_2 = ((np.pi/2) + (fr * ((2*np.pi)/N)))*fs/(2*np.pi)\n",
    "\n",
    "signal = a_sign * np.sin(2*np.pi * np.outer(tt, freq_2))"
   ]
  },
  {
   "cell_type": "markdown",
   "metadata": {},
   "source": [
    "Graficamos los histogramas de \n",
    "$$\n",
    "|X^{i}_{w}(Ω_0)|\n",
    "$$\n",
    "siendo\n",
    "$$\n",
    "|X^{i}_{w}(Ω)|=|F\\{x(k)⋅w_i(k)\\}|\n",
    "$$\n",
    "para la i-ésima ventana de las 5 utilizadas en la TS6. El sesgo y la varianza se definen para este caso como:"
   ]
  },
  {
   "cell_type": "code",
   "execution_count": 45,
   "metadata": {},
   "outputs": [],
   "source": [
    "# Someto la señal a las distintas ventanas\n",
    "# Rectangular\n",
    "signal_rec = signal * np.array(win.boxcar(N)).reshape(N,1)\n",
    "# Barlett\n",
    "signal_barlett = signal * np.array(win.bartlett(N)).reshape(N,1)\n",
    "# Hann\n",
    "signal_hann = signal * np.array(win.hann(N)).reshape(N,1)\n",
    "# Blackman\n",
    "signal_blackman = signal * np.array(win.blackman(N)).reshape(N,1)\n",
    "# Flat-top\n",
    "signal_flat = signal * np.array(win.flattop(N)).reshape(N,1)"
   ]
  },
  {
   "cell_type": "code",
   "execution_count": 46,
   "metadata": {},
   "outputs": [],
   "source": [
    "# Calculamos las transformadas\n",
    "fft_rec = np.fft.fft(signal_rec, axis = 0)/N\n",
    "fft_barlett = np.fft.fft(signal_barlett, axis = 0)/N\n",
    "fft_hann = np.fft.fft(signal_hann, axis = 0)/N\n",
    "fft_blackman = np.fft.fft(signal_blackman, axis = 0)/N\n",
    "fft_flat = np.fft.fft(signal_flat, axis = 0)/N"
   ]
  },
  {
   "cell_type": "code",
   "execution_count": 47,
   "metadata": {},
   "outputs": [],
   "source": [
    "# Calculamos los estimadores\n",
    "rec_hat = np.abs(fft_rec[ff == 250, :]).flatten()\n",
    "barlett_hat = np.abs(fft_barlett[ff == 250, :]).flatten()\n",
    "hann_hat = np.abs(fft_hann[ff == 250, :]).flatten()\n",
    "blackman_hat = np.abs(fft_blackman[ff == 250, :]).flatten()\n",
    "flat_hat =  np.abs(fft_flat[ff == 250, :]).flatten()"
   ]
  },
  {
   "cell_type": "code",
   "execution_count": 48,
   "metadata": {},
   "outputs": [
    {
     "data": {
      "text/plain": [
       "<matplotlib.legend.Legend at 0x7f0efba66280>"
      ]
     },
     "execution_count": 48,
     "metadata": {},
     "output_type": "execute_result"
    },
    {
     "data": {
      "image/png": "[encoded data removed]",
      "text/plain": [
       "<Figure size 1440x720 with 1 Axes>"
      ]
     },
     "metadata": {
      "needs_background": "light"
     },
     "output_type": "display_data"
    }
   ],
   "source": [
    "# Graficamos los histogramas\n",
    "plt.hist(rec_hat, bins=20, label=\"Rectangular\")\n",
    "plt.hist(barlett_hat, bins=20, label=\"Barlett\" )\n",
    "plt.hist(hann_hat, bins=20, label=\"Hann\")\n",
    "plt.hist(blackman_hat, bins=20, label=\"Blackman\")\n",
    "plt.hist(flat_hat, bins=20, label=\"Flat-top\")\n",
    "plt.legend(loc=\"upper right\")"
   ]
  },
  {
   "cell_type": "markdown",
   "metadata": {},
   "source": [
    "Calcule experimentalmente el sesgo y la varianza del siguiente estimador: \n",
    "$$\n",
    "\\hat{a_0}=|X^i_w(Ω_0)|\n",
    "$$\n",
    "$$\n",
    "s_a=E\\{\\hat{a_0}\\}−a_0\n",
    "$$\n",
    "$$\n",
    "v_a=var\\{\\hat{a0}\\}=E\\{(\\hat{a0}−E\\{\\hat{a0}\\})^2\\}\n",
    "$$\n",
    "y pueden aproximarse cuando consideramos los valores esperados como las medias muestrales\n",
    "$$\n",
    "E\\{\\hat{a_0}\\}=\\hat{μ_a}= \\frac {1} {M} \\sum_{j=0}^{M−1}\\hat{a_j}\n",
    "$$\n",
    "$$\n",
    "s_a=\\hat{μ_a}−a_0\n",
    "$$\n",
    "$$\n",
    "v_a = \\frac {1} {M} \\sum_{j=0}^{M−1}(\\hat{a_j} - \\hat{μ_a})^2\n",
    "$$"
   ]
  },
  {
   "cell_type": "code",
   "execution_count": 49,
   "metadata": {},
   "outputs": [],
   "source": [
    "# Rectangular\n",
    "sesgo_rec = np.mean(rec_hat) - 2\n",
    "var_rec = np.var(rec_hat)\n",
    "# Barlett\n",
    "sesgo_barlett = np.mean(barlett_hat) - 2\n",
    "var_barlett = np.var(barlett_hat)\n",
    "# Hann\n",
    "sesgo_hann = np.mean(hann_hat) - 2\n",
    "var_hann = np.var(hann_hat)\n",
    "# Blackman\n",
    "sesgo_blackman = np.mean(blackman_hat) - 2\n",
    "var_blackman = np.var(blackman_hat)\n",
    "# Flat-top\n",
    "sesgo_flat = np.mean(flat_hat) - 2\n",
    "var_flat = np.var(flat_hat)"
   ]
  },
  {
   "cell_type": "code",
   "execution_count": 51,
   "metadata": {},
   "outputs": [
    {
     "data": {
      "text/html": [
       "<div>\n",
       "<style scoped>\n",
       "    .dataframe tbody tr th:only-of-type {\n",
       "        vertical-align: middle;\n",
       "    }\n",
       "\n",
       "    .dataframe tbody tr th {\n",
       "        vertical-align: top;\n",
       "    }\n",
       "\n",
       "    .dataframe thead th {\n",
       "        text-align: right;\n",
       "    }\n",
       "</style>\n",
       "<table border=\"1\" class=\"dataframe\">\n",
       "  <thead>\n",
       "    <tr style=\"text-align: right;\">\n",
       "      <th></th>\n",
       "      <th>Ventana</th>\n",
       "      <th>Sesgo</th>\n",
       "      <th>Varianza</th>\n",
       "      <th>Media</th>\n",
       "    </tr>\n",
       "  </thead>\n",
       "  <tbody>\n",
       "    <tr>\n",
       "      <th>0</th>\n",
       "      <td>Rectangular</td>\n",
       "      <td>-1.664671</td>\n",
       "      <td>0.096985</td>\n",
       "      <td>0.335329</td>\n",
       "    </tr>\n",
       "    <tr>\n",
       "      <th>1</th>\n",
       "      <td>Barlett</td>\n",
       "      <td>-1.779705</td>\n",
       "      <td>0.029285</td>\n",
       "      <td>0.220295</td>\n",
       "    </tr>\n",
       "    <tr>\n",
       "      <th>2</th>\n",
       "      <td>Hann</td>\n",
       "      <td>-1.750633</td>\n",
       "      <td>0.027138</td>\n",
       "      <td>0.249367</td>\n",
       "    </tr>\n",
       "    <tr>\n",
       "      <th>3</th>\n",
       "      <td>Blackman</td>\n",
       "      <td>-1.757682</td>\n",
       "      <td>0.014906</td>\n",
       "      <td>0.242318</td>\n",
       "    </tr>\n",
       "    <tr>\n",
       "      <th>4</th>\n",
       "      <td>Flat-top</td>\n",
       "      <td>-1.802655</td>\n",
       "      <td>0.000489</td>\n",
       "      <td>0.197345</td>\n",
       "    </tr>\n",
       "  </tbody>\n",
       "</table>\n",
       "</div>"
      ],
      "text/plain": [
       "       Ventana     Sesgo  Varianza     Media\n",
       "0  Rectangular -1.664671  0.096985  0.335329\n",
       "1      Barlett -1.779705  0.029285  0.220295\n",
       "2         Hann -1.750633  0.027138  0.249367\n",
       "3     Blackman -1.757682  0.014906  0.242318\n",
       "4     Flat-top -1.802655  0.000489  0.197345"
      ]
     },
     "execution_count": 51,
     "metadata": {},
     "output_type": "execute_result"
    }
   ],
   "source": [
    "# Creamos la tabla\n",
    "data = [['Rectangular', sesgo_rec, var_rec, np.mean(rec_hat)], \n",
    "        ['Barlett', sesgo_barlett, var_barlett, np.mean(barlett_hat)], \n",
    "        ['Hann', sesgo_hann, var_hann, np.mean(hann_hat)], \n",
    "        ['Blackman', sesgo_blackman, var_blackman, np.mean(blackman_hat)], \n",
    "        ['Flat-top', sesgo_flat, var_flat, np.mean(flat_hat)]]\n",
    "df = pd.DataFrame(data, columns = ['Ventana', 'Sesgo', 'Varianza', 'Media'])\n",
    "df"
   ]
  },
  {
   "cell_type": "code",
   "execution_count": null,
   "metadata": {},
   "outputs": [],
   "source": []
  }
 ],
 "metadata": {
  "kernelspec": {
   "display_name": "Python 3",
   "language": "python",
   "name": "python3"
  },
  "language_info": {
   "codemirror_mode": {
    "name": "ipython",
    "version": 3
   },
   "file_extension": ".py",
   "mimetype": "text/x-python",
   "name": "python",
   "nbconvert_exporter": "python",
   "pygments_lexer": "ipython3",
   "version": "3.8.8"
  }
 },
 "nbformat": 4,
 "nbformat_minor": 2
}
